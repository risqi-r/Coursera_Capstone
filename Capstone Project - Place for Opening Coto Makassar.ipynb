{
    "cells": [
        {
            "cell_type": "markdown",
            "metadata": {
                "collapsed": true
            },
            "source": "# Analysis of Place for Opening Coto Makassar Restaurant in Makassar, Indonesia"
        },
        {
            "cell_type": "markdown",
            "metadata": {},
            "source": "# Introduction: Business Problem"
        },
        {
            "cell_type": "markdown",
            "metadata": {},
            "source": "This project will look for the optimal location to open an Makassar indigenous food restaurant, i.e. Coto Makassar.\nThis analysis will be helpful for business people or stakeholders who are interested in opening a Coto Makassar restaurant in Makassar, Indonesia.\n\nBased on information on the website of the South Sulawes Provincial Government, Makassar is the capital of South Sulawesi province and one of the metropolitan cities in Indonesia. Makassar is the fourth largest city in Indonesia and the largest in Eastern Indonesia.[1](https://sulselprov.go.id/pages/info_lain/22#:~:text=Kota%20Makassar%20(Macassar%2C%20Mangkasar%2C,terbesar%20di%20Kawasan%20Timur%20Indonesia.)\n\nMakassar is also famous for having many indigenous foods. One of the most popular is Coto Makassar. Through this project, we will visualize which areas in Makassar where are the existing Coto Makassar restaurant. Then, we will determine which areas are rarely found Coto Makassar restaurants. This area would be suitable for opening a Coto Makassar restaurant business with little competition. We will also map areas that have the same characteristics using a cluster model based on demographic data from each region. Through this analysis, we hope that it can help business people or stakeholders in making decisions to open a Coto Makassar restaurant."
        },
        {
            "cell_type": "markdown",
            "metadata": {},
            "source": "# Data Description"
        },
        {
            "cell_type": "markdown",
            "metadata": {},
            "source": "Based on these business problems, the data we need are:\n1. Demographic information.\n2. The latitude and longitude of cities, districts, particular venues, or neighborhoods\n2. Number of other restaurants. We can extract this data via the Foursqare API.\n3. List of Coto Makassar restaurants in Makassar. We can extract this data via the Foursqare API."
        }
    ],
    "metadata": {
        "kernelspec": {
            "display_name": "Python 3.7",
            "language": "python",
            "name": "python3"
        },
        "language_info": {
            "codemirror_mode": {
                "name": "ipython",
                "version": 3
            },
            "file_extension": ".py",
            "mimetype": "text/x-python",
            "name": "python",
            "nbconvert_exporter": "python",
            "pygments_lexer": "ipython3",
            "version": "3.7.10"
        }
    },
    "nbformat": 4,
    "nbformat_minor": 1
}